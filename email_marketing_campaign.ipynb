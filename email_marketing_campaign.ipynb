{
  "nbformat": 4,
  "nbformat_minor": 0,
  "metadata": {
    "colab": {
      "provenance": []
    },
    "kernelspec": {
      "name": "python3",
      "display_name": "Python 3"
    },
    "language_info": {
      "name": "python"
    }
  },
  "cells": [
    {
      "cell_type": "code",
      "execution_count": 1,
      "metadata": {
        "id": "RDKGvgAHI636"
      },
      "outputs": [],
      "source": [
        "import pandas as pd\n",
        "import numpy as np\n",
        "from sklearn.model_selection import train_test_split\n",
        "from sklearn.ensemble import RandomForestClassifier\n",
        "from sklearn.metrics import classification_report, roc_auc_score\n",
        "import matplotlib.pyplot as plt\n",
        "import seaborn as sns\n"
      ]
    },
    {
      "cell_type": "code",
      "source": [
        "email_df=pd.read_csv('email_table.csv')\n",
        "opened_df=pd.read_csv('email_opened_table.csv')\n",
        "clicked_df=pd.read_csv('link_clicked_table.csv')"
      ],
      "metadata": {
        "id": "00Wh54U3LJUx"
      },
      "execution_count": 2,
      "outputs": []
    },
    {
      "cell_type": "code",
      "source": [
        "email_df['opened']=email_df['email_id'].isin(opened_df['email_id']).astype(int)\n",
        "email_df['clicked']=email_df['email_id'].isin(clicked_df['email_id']).astype(int)"
      ],
      "metadata": {
        "id": "fy7buHSuLs5P"
      },
      "execution_count": 3,
      "outputs": []
    },
    {
      "cell_type": "code",
      "source": [
        "email_df.head()"
      ],
      "metadata": {
        "colab": {
          "base_uri": "https://localhost:8080/",
          "height": 206
        },
        "id": "pEqrLTFiMJFG",
        "outputId": "1ee30bc5-cf15-4c6b-afdf-7552ca98ce89"
      },
      "execution_count": 4,
      "outputs": [
        {
          "output_type": "execute_result",
          "data": {
            "text/plain": [
              "   email_id   email_text email_version  hour    weekday user_country  \\\n",
              "0     85120  short_email  personalized     2     Sunday           US   \n",
              "1    966622   long_email  personalized    12     Sunday           UK   \n",
              "2    777221   long_email  personalized    11  Wednesday           US   \n",
              "3    493711  short_email       generic     6     Monday           UK   \n",
              "4    106887   long_email       generic    14     Monday           US   \n",
              "\n",
              "   user_past_purchases  opened  clicked  \n",
              "0                    5       0        0  \n",
              "1                    2       1        1  \n",
              "2                    2       0        0  \n",
              "3                    1       0        0  \n",
              "4                    6       0        0  "
            ],
            "text/html": [
              "\n",
              "  <div id=\"df-1dafa383-7d3e-4ebc-a400-eea940b76dbb\" class=\"colab-df-container\">\n",
              "    <div>\n",
              "<style scoped>\n",
              "    .dataframe tbody tr th:only-of-type {\n",
              "        vertical-align: middle;\n",
              "    }\n",
              "\n",
              "    .dataframe tbody tr th {\n",
              "        vertical-align: top;\n",
              "    }\n",
              "\n",
              "    .dataframe thead th {\n",
              "        text-align: right;\n",
              "    }\n",
              "</style>\n",
              "<table border=\"1\" class=\"dataframe\">\n",
              "  <thead>\n",
              "    <tr style=\"text-align: right;\">\n",
              "      <th></th>\n",
              "      <th>email_id</th>\n",
              "      <th>email_text</th>\n",
              "      <th>email_version</th>\n",
              "      <th>hour</th>\n",
              "      <th>weekday</th>\n",
              "      <th>user_country</th>\n",
              "      <th>user_past_purchases</th>\n",
              "      <th>opened</th>\n",
              "      <th>clicked</th>\n",
              "    </tr>\n",
              "  </thead>\n",
              "  <tbody>\n",
              "    <tr>\n",
              "      <th>0</th>\n",
              "      <td>85120</td>\n",
              "      <td>short_email</td>\n",
              "      <td>personalized</td>\n",
              "      <td>2</td>\n",
              "      <td>Sunday</td>\n",
              "      <td>US</td>\n",
              "      <td>5</td>\n",
              "      <td>0</td>\n",
              "      <td>0</td>\n",
              "    </tr>\n",
              "    <tr>\n",
              "      <th>1</th>\n",
              "      <td>966622</td>\n",
              "      <td>long_email</td>\n",
              "      <td>personalized</td>\n",
              "      <td>12</td>\n",
              "      <td>Sunday</td>\n",
              "      <td>UK</td>\n",
              "      <td>2</td>\n",
              "      <td>1</td>\n",
              "      <td>1</td>\n",
              "    </tr>\n",
              "    <tr>\n",
              "      <th>2</th>\n",
              "      <td>777221</td>\n",
              "      <td>long_email</td>\n",
              "      <td>personalized</td>\n",
              "      <td>11</td>\n",
              "      <td>Wednesday</td>\n",
              "      <td>US</td>\n",
              "      <td>2</td>\n",
              "      <td>0</td>\n",
              "      <td>0</td>\n",
              "    </tr>\n",
              "    <tr>\n",
              "      <th>3</th>\n",
              "      <td>493711</td>\n",
              "      <td>short_email</td>\n",
              "      <td>generic</td>\n",
              "      <td>6</td>\n",
              "      <td>Monday</td>\n",
              "      <td>UK</td>\n",
              "      <td>1</td>\n",
              "      <td>0</td>\n",
              "      <td>0</td>\n",
              "    </tr>\n",
              "    <tr>\n",
              "      <th>4</th>\n",
              "      <td>106887</td>\n",
              "      <td>long_email</td>\n",
              "      <td>generic</td>\n",
              "      <td>14</td>\n",
              "      <td>Monday</td>\n",
              "      <td>US</td>\n",
              "      <td>6</td>\n",
              "      <td>0</td>\n",
              "      <td>0</td>\n",
              "    </tr>\n",
              "  </tbody>\n",
              "</table>\n",
              "</div>\n",
              "    <div class=\"colab-df-buttons\">\n",
              "\n",
              "  <div class=\"colab-df-container\">\n",
              "    <button class=\"colab-df-convert\" onclick=\"convertToInteractive('df-1dafa383-7d3e-4ebc-a400-eea940b76dbb')\"\n",
              "            title=\"Convert this dataframe to an interactive table.\"\n",
              "            style=\"display:none;\">\n",
              "\n",
              "  <svg xmlns=\"http://www.w3.org/2000/svg\" height=\"24px\" viewBox=\"0 -960 960 960\">\n",
              "    <path d=\"M120-120v-720h720v720H120Zm60-500h600v-160H180v160Zm220 220h160v-160H400v160Zm0 220h160v-160H400v160ZM180-400h160v-160H180v160Zm440 0h160v-160H620v160ZM180-180h160v-160H180v160Zm440 0h160v-160H620v160Z\"/>\n",
              "  </svg>\n",
              "    </button>\n",
              "\n",
              "  <style>\n",
              "    .colab-df-container {\n",
              "      display:flex;\n",
              "      gap: 12px;\n",
              "    }\n",
              "\n",
              "    .colab-df-convert {\n",
              "      background-color: #E8F0FE;\n",
              "      border: none;\n",
              "      border-radius: 50%;\n",
              "      cursor: pointer;\n",
              "      display: none;\n",
              "      fill: #1967D2;\n",
              "      height: 32px;\n",
              "      padding: 0 0 0 0;\n",
              "      width: 32px;\n",
              "    }\n",
              "\n",
              "    .colab-df-convert:hover {\n",
              "      background-color: #E2EBFA;\n",
              "      box-shadow: 0px 1px 2px rgba(60, 64, 67, 0.3), 0px 1px 3px 1px rgba(60, 64, 67, 0.15);\n",
              "      fill: #174EA6;\n",
              "    }\n",
              "\n",
              "    .colab-df-buttons div {\n",
              "      margin-bottom: 4px;\n",
              "    }\n",
              "\n",
              "    [theme=dark] .colab-df-convert {\n",
              "      background-color: #3B4455;\n",
              "      fill: #D2E3FC;\n",
              "    }\n",
              "\n",
              "    [theme=dark] .colab-df-convert:hover {\n",
              "      background-color: #434B5C;\n",
              "      box-shadow: 0px 1px 3px 1px rgba(0, 0, 0, 0.15);\n",
              "      filter: drop-shadow(0px 1px 2px rgba(0, 0, 0, 0.3));\n",
              "      fill: #FFFFFF;\n",
              "    }\n",
              "  </style>\n",
              "\n",
              "    <script>\n",
              "      const buttonEl =\n",
              "        document.querySelector('#df-1dafa383-7d3e-4ebc-a400-eea940b76dbb button.colab-df-convert');\n",
              "      buttonEl.style.display =\n",
              "        google.colab.kernel.accessAllowed ? 'block' : 'none';\n",
              "\n",
              "      async function convertToInteractive(key) {\n",
              "        const element = document.querySelector('#df-1dafa383-7d3e-4ebc-a400-eea940b76dbb');\n",
              "        const dataTable =\n",
              "          await google.colab.kernel.invokeFunction('convertToInteractive',\n",
              "                                                    [key], {});\n",
              "        if (!dataTable) return;\n",
              "\n",
              "        const docLinkHtml = 'Like what you see? Visit the ' +\n",
              "          '<a target=\"_blank\" href=https://colab.research.google.com/notebooks/data_table.ipynb>data table notebook</a>'\n",
              "          + ' to learn more about interactive tables.';\n",
              "        element.innerHTML = '';\n",
              "        dataTable['output_type'] = 'display_data';\n",
              "        await google.colab.output.renderOutput(dataTable, element);\n",
              "        const docLink = document.createElement('div');\n",
              "        docLink.innerHTML = docLinkHtml;\n",
              "        element.appendChild(docLink);\n",
              "      }\n",
              "    </script>\n",
              "  </div>\n",
              "\n",
              "\n",
              "<div id=\"df-25d2c979-2d8e-42a5-9d6b-0256c102307b\">\n",
              "  <button class=\"colab-df-quickchart\" onclick=\"quickchart('df-25d2c979-2d8e-42a5-9d6b-0256c102307b')\"\n",
              "            title=\"Suggest charts\"\n",
              "            style=\"display:none;\">\n",
              "\n",
              "<svg xmlns=\"http://www.w3.org/2000/svg\" height=\"24px\"viewBox=\"0 0 24 24\"\n",
              "     width=\"24px\">\n",
              "    <g>\n",
              "        <path d=\"M19 3H5c-1.1 0-2 .9-2 2v14c0 1.1.9 2 2 2h14c1.1 0 2-.9 2-2V5c0-1.1-.9-2-2-2zM9 17H7v-7h2v7zm4 0h-2V7h2v10zm4 0h-2v-4h2v4z\"/>\n",
              "    </g>\n",
              "</svg>\n",
              "  </button>\n",
              "\n",
              "<style>\n",
              "  .colab-df-quickchart {\n",
              "      --bg-color: #E8F0FE;\n",
              "      --fill-color: #1967D2;\n",
              "      --hover-bg-color: #E2EBFA;\n",
              "      --hover-fill-color: #174EA6;\n",
              "      --disabled-fill-color: #AAA;\n",
              "      --disabled-bg-color: #DDD;\n",
              "  }\n",
              "\n",
              "  [theme=dark] .colab-df-quickchart {\n",
              "      --bg-color: #3B4455;\n",
              "      --fill-color: #D2E3FC;\n",
              "      --hover-bg-color: #434B5C;\n",
              "      --hover-fill-color: #FFFFFF;\n",
              "      --disabled-bg-color: #3B4455;\n",
              "      --disabled-fill-color: #666;\n",
              "  }\n",
              "\n",
              "  .colab-df-quickchart {\n",
              "    background-color: var(--bg-color);\n",
              "    border: none;\n",
              "    border-radius: 50%;\n",
              "    cursor: pointer;\n",
              "    display: none;\n",
              "    fill: var(--fill-color);\n",
              "    height: 32px;\n",
              "    padding: 0;\n",
              "    width: 32px;\n",
              "  }\n",
              "\n",
              "  .colab-df-quickchart:hover {\n",
              "    background-color: var(--hover-bg-color);\n",
              "    box-shadow: 0 1px 2px rgba(60, 64, 67, 0.3), 0 1px 3px 1px rgba(60, 64, 67, 0.15);\n",
              "    fill: var(--button-hover-fill-color);\n",
              "  }\n",
              "\n",
              "  .colab-df-quickchart-complete:disabled,\n",
              "  .colab-df-quickchart-complete:disabled:hover {\n",
              "    background-color: var(--disabled-bg-color);\n",
              "    fill: var(--disabled-fill-color);\n",
              "    box-shadow: none;\n",
              "  }\n",
              "\n",
              "  .colab-df-spinner {\n",
              "    border: 2px solid var(--fill-color);\n",
              "    border-color: transparent;\n",
              "    border-bottom-color: var(--fill-color);\n",
              "    animation:\n",
              "      spin 1s steps(1) infinite;\n",
              "  }\n",
              "\n",
              "  @keyframes spin {\n",
              "    0% {\n",
              "      border-color: transparent;\n",
              "      border-bottom-color: var(--fill-color);\n",
              "      border-left-color: var(--fill-color);\n",
              "    }\n",
              "    20% {\n",
              "      border-color: transparent;\n",
              "      border-left-color: var(--fill-color);\n",
              "      border-top-color: var(--fill-color);\n",
              "    }\n",
              "    30% {\n",
              "      border-color: transparent;\n",
              "      border-left-color: var(--fill-color);\n",
              "      border-top-color: var(--fill-color);\n",
              "      border-right-color: var(--fill-color);\n",
              "    }\n",
              "    40% {\n",
              "      border-color: transparent;\n",
              "      border-right-color: var(--fill-color);\n",
              "      border-top-color: var(--fill-color);\n",
              "    }\n",
              "    60% {\n",
              "      border-color: transparent;\n",
              "      border-right-color: var(--fill-color);\n",
              "    }\n",
              "    80% {\n",
              "      border-color: transparent;\n",
              "      border-right-color: var(--fill-color);\n",
              "      border-bottom-color: var(--fill-color);\n",
              "    }\n",
              "    90% {\n",
              "      border-color: transparent;\n",
              "      border-bottom-color: var(--fill-color);\n",
              "    }\n",
              "  }\n",
              "</style>\n",
              "\n",
              "  <script>\n",
              "    async function quickchart(key) {\n",
              "      const quickchartButtonEl =\n",
              "        document.querySelector('#' + key + ' button');\n",
              "      quickchartButtonEl.disabled = true;  // To prevent multiple clicks.\n",
              "      quickchartButtonEl.classList.add('colab-df-spinner');\n",
              "      try {\n",
              "        const charts = await google.colab.kernel.invokeFunction(\n",
              "            'suggestCharts', [key], {});\n",
              "      } catch (error) {\n",
              "        console.error('Error during call to suggestCharts:', error);\n",
              "      }\n",
              "      quickchartButtonEl.classList.remove('colab-df-spinner');\n",
              "      quickchartButtonEl.classList.add('colab-df-quickchart-complete');\n",
              "    }\n",
              "    (() => {\n",
              "      let quickchartButtonEl =\n",
              "        document.querySelector('#df-25d2c979-2d8e-42a5-9d6b-0256c102307b button');\n",
              "      quickchartButtonEl.style.display =\n",
              "        google.colab.kernel.accessAllowed ? 'block' : 'none';\n",
              "    })();\n",
              "  </script>\n",
              "</div>\n",
              "\n",
              "    </div>\n",
              "  </div>\n"
            ],
            "application/vnd.google.colaboratory.intrinsic+json": {
              "type": "dataframe",
              "variable_name": "email_df",
              "summary": "{\n  \"name\": \"email_df\",\n  \"rows\": 100000,\n  \"fields\": [\n    {\n      \"column\": \"email_id\",\n      \"properties\": {\n        \"dtype\": \"number\",\n        \"std\": 289230,\n        \"min\": 8,\n        \"max\": 999998,\n        \"num_unique_values\": 100000,\n        \"samples\": [\n          416549,\n          248222,\n          242229\n        ],\n        \"semantic_type\": \"\",\n        \"description\": \"\"\n      }\n    },\n    {\n      \"column\": \"email_text\",\n      \"properties\": {\n        \"dtype\": \"category\",\n        \"num_unique_values\": 2,\n        \"samples\": [\n          \"long_email\",\n          \"short_email\"\n        ],\n        \"semantic_type\": \"\",\n        \"description\": \"\"\n      }\n    },\n    {\n      \"column\": \"email_version\",\n      \"properties\": {\n        \"dtype\": \"category\",\n        \"num_unique_values\": 2,\n        \"samples\": [\n          \"generic\",\n          \"personalized\"\n        ],\n        \"semantic_type\": \"\",\n        \"description\": \"\"\n      }\n    },\n    {\n      \"column\": \"hour\",\n      \"properties\": {\n        \"dtype\": \"number\",\n        \"std\": 4,\n        \"min\": 1,\n        \"max\": 24,\n        \"num_unique_values\": 24,\n        \"samples\": [\n          23,\n          17\n        ],\n        \"semantic_type\": \"\",\n        \"description\": \"\"\n      }\n    },\n    {\n      \"column\": \"weekday\",\n      \"properties\": {\n        \"dtype\": \"category\",\n        \"num_unique_values\": 7,\n        \"samples\": [\n          \"Sunday\",\n          \"Wednesday\"\n        ],\n        \"semantic_type\": \"\",\n        \"description\": \"\"\n      }\n    },\n    {\n      \"column\": \"user_country\",\n      \"properties\": {\n        \"dtype\": \"category\",\n        \"num_unique_values\": 4,\n        \"samples\": [\n          \"UK\",\n          \"ES\"\n        ],\n        \"semantic_type\": \"\",\n        \"description\": \"\"\n      }\n    },\n    {\n      \"column\": \"user_past_purchases\",\n      \"properties\": {\n        \"dtype\": \"number\",\n        \"std\": 3,\n        \"min\": 0,\n        \"max\": 22,\n        \"num_unique_values\": 23,\n        \"samples\": [\n          14,\n          11\n        ],\n        \"semantic_type\": \"\",\n        \"description\": \"\"\n      }\n    },\n    {\n      \"column\": \"opened\",\n      \"properties\": {\n        \"dtype\": \"number\",\n        \"std\": 0,\n        \"min\": 0,\n        \"max\": 1,\n        \"num_unique_values\": 2,\n        \"samples\": [\n          1,\n          0\n        ],\n        \"semantic_type\": \"\",\n        \"description\": \"\"\n      }\n    },\n    {\n      \"column\": \"clicked\",\n      \"properties\": {\n        \"dtype\": \"number\",\n        \"std\": 0,\n        \"min\": 0,\n        \"max\": 1,\n        \"num_unique_values\": 2,\n        \"samples\": [\n          1,\n          0\n        ],\n        \"semantic_type\": \"\",\n        \"description\": \"\"\n      }\n    }\n  ]\n}"
            }
          },
          "metadata": {},
          "execution_count": 4
        }
      ]
    },
    {
      "cell_type": "markdown",
      "source": [
        "What percentage of users opened the email and what percentage\n",
        "clicked on the link within the email?"
      ],
      "metadata": {
        "id": "SxG_yQvKMjPf"
      }
    },
    {
      "cell_type": "code",
      "source": [
        "#one method\n",
        "open_rate=email_df['opened'].mean()\n",
        "click_rate=email_df['clicked'].mean()\n",
        "print(f\"Email open rate: {open_rate:.2%}\")\n",
        "print(f\"Link click rate: {click_rate:.2%}\")\n"
      ],
      "metadata": {
        "colab": {
          "base_uri": "https://localhost:8080/"
        },
        "id": "-Gs3wuhmMiCl",
        "outputId": "3fb80a67-960a-4d0c-938a-edc08b0542ef"
      },
      "execution_count": 5,
      "outputs": [
        {
          "output_type": "stream",
          "name": "stdout",
          "text": [
            "Email open rate: 10.35%\n",
            "Link click rate: 2.12%\n"
          ]
        }
      ]
    },
    {
      "cell_type": "code",
      "source": [
        "#by formulae\n",
        "total_emails=len(email_df)\n",
        "open_rate=len(opened_df)/total_emails *100 #open rate\n",
        "click_rate=len(clicked_df)/total_emails*100 #click rate\n",
        "print(f\"{open_rate:.2f}% of users opened the email.\")\n",
        "print(f\"{click_rate:.2f}% of users clicked on the link within the email.\")"
      ],
      "metadata": {
        "colab": {
          "base_uri": "https://localhost:8080/"
        },
        "id": "8YrJ2lKkOYnN",
        "outputId": "8ba0b317-e1f2-4733-e3fc-98e4ee0547a8"
      },
      "execution_count": 6,
      "outputs": [
        {
          "output_type": "stream",
          "name": "stdout",
          "text": [
            "10.35% of users opened the email.\n",
            "2.12% of users clicked on the link within the email.\n"
          ]
        }
      ]
    },
    {
      "cell_type": "markdown",
      "source": [
        "The VP of marketing thinks that it is stupid to send emails in a random\n",
        "way. Based on all the information you have about the emails that were\n",
        "sent, can you build a model to optimize in future how to send emails to\n",
        "maximize the probability of users clicking on the link inside the email?"
      ],
      "metadata": {
        "id": "bcuyfH11QA_k"
      }
    },
    {
      "cell_type": "markdown",
      "source": [
        "#Model Pipeline-\n",
        "predict which users are most likely to click the link in the email- optimize who to email next time."
      ],
      "metadata": {
        "id": "yiax71vpQFgV"
      }
    },
    {
      "cell_type": "markdown",
      "source": [
        "Models tried-\n",
        "- Random Forest (best performing)\n",
        "- Logistic Regression\n",
        "- XGBoost\n",
        "- LightGBM"
      ],
      "metadata": {
        "id": "upLnfprrYPId"
      }
    },
    {
      "cell_type": "code",
      "source": [
        "email_df.head()"
      ],
      "metadata": {
        "colab": {
          "base_uri": "https://localhost:8080/",
          "height": 206
        },
        "id": "M0NnwY3zRwI6",
        "outputId": "7797b9a3-a1b6-4efe-dea4-735e6b10fb13"
      },
      "execution_count": 7,
      "outputs": [
        {
          "output_type": "execute_result",
          "data": {
            "text/plain": [
              "   email_id   email_text email_version  hour    weekday user_country  \\\n",
              "0     85120  short_email  personalized     2     Sunday           US   \n",
              "1    966622   long_email  personalized    12     Sunday           UK   \n",
              "2    777221   long_email  personalized    11  Wednesday           US   \n",
              "3    493711  short_email       generic     6     Monday           UK   \n",
              "4    106887   long_email       generic    14     Monday           US   \n",
              "\n",
              "   user_past_purchases  opened  clicked  \n",
              "0                    5       0        0  \n",
              "1                    2       1        1  \n",
              "2                    2       0        0  \n",
              "3                    1       0        0  \n",
              "4                    6       0        0  "
            ],
            "text/html": [
              "\n",
              "  <div id=\"df-5531abed-33bf-426d-bf6d-55d78f510857\" class=\"colab-df-container\">\n",
              "    <div>\n",
              "<style scoped>\n",
              "    .dataframe tbody tr th:only-of-type {\n",
              "        vertical-align: middle;\n",
              "    }\n",
              "\n",
              "    .dataframe tbody tr th {\n",
              "        vertical-align: top;\n",
              "    }\n",
              "\n",
              "    .dataframe thead th {\n",
              "        text-align: right;\n",
              "    }\n",
              "</style>\n",
              "<table border=\"1\" class=\"dataframe\">\n",
              "  <thead>\n",
              "    <tr style=\"text-align: right;\">\n",
              "      <th></th>\n",
              "      <th>email_id</th>\n",
              "      <th>email_text</th>\n",
              "      <th>email_version</th>\n",
              "      <th>hour</th>\n",
              "      <th>weekday</th>\n",
              "      <th>user_country</th>\n",
              "      <th>user_past_purchases</th>\n",
              "      <th>opened</th>\n",
              "      <th>clicked</th>\n",
              "    </tr>\n",
              "  </thead>\n",
              "  <tbody>\n",
              "    <tr>\n",
              "      <th>0</th>\n",
              "      <td>85120</td>\n",
              "      <td>short_email</td>\n",
              "      <td>personalized</td>\n",
              "      <td>2</td>\n",
              "      <td>Sunday</td>\n",
              "      <td>US</td>\n",
              "      <td>5</td>\n",
              "      <td>0</td>\n",
              "      <td>0</td>\n",
              "    </tr>\n",
              "    <tr>\n",
              "      <th>1</th>\n",
              "      <td>966622</td>\n",
              "      <td>long_email</td>\n",
              "      <td>personalized</td>\n",
              "      <td>12</td>\n",
              "      <td>Sunday</td>\n",
              "      <td>UK</td>\n",
              "      <td>2</td>\n",
              "      <td>1</td>\n",
              "      <td>1</td>\n",
              "    </tr>\n",
              "    <tr>\n",
              "      <th>2</th>\n",
              "      <td>777221</td>\n",
              "      <td>long_email</td>\n",
              "      <td>personalized</td>\n",
              "      <td>11</td>\n",
              "      <td>Wednesday</td>\n",
              "      <td>US</td>\n",
              "      <td>2</td>\n",
              "      <td>0</td>\n",
              "      <td>0</td>\n",
              "    </tr>\n",
              "    <tr>\n",
              "      <th>3</th>\n",
              "      <td>493711</td>\n",
              "      <td>short_email</td>\n",
              "      <td>generic</td>\n",
              "      <td>6</td>\n",
              "      <td>Monday</td>\n",
              "      <td>UK</td>\n",
              "      <td>1</td>\n",
              "      <td>0</td>\n",
              "      <td>0</td>\n",
              "    </tr>\n",
              "    <tr>\n",
              "      <th>4</th>\n",
              "      <td>106887</td>\n",
              "      <td>long_email</td>\n",
              "      <td>generic</td>\n",
              "      <td>14</td>\n",
              "      <td>Monday</td>\n",
              "      <td>US</td>\n",
              "      <td>6</td>\n",
              "      <td>0</td>\n",
              "      <td>0</td>\n",
              "    </tr>\n",
              "  </tbody>\n",
              "</table>\n",
              "</div>\n",
              "    <div class=\"colab-df-buttons\">\n",
              "\n",
              "  <div class=\"colab-df-container\">\n",
              "    <button class=\"colab-df-convert\" onclick=\"convertToInteractive('df-5531abed-33bf-426d-bf6d-55d78f510857')\"\n",
              "            title=\"Convert this dataframe to an interactive table.\"\n",
              "            style=\"display:none;\">\n",
              "\n",
              "  <svg xmlns=\"http://www.w3.org/2000/svg\" height=\"24px\" viewBox=\"0 -960 960 960\">\n",
              "    <path d=\"M120-120v-720h720v720H120Zm60-500h600v-160H180v160Zm220 220h160v-160H400v160Zm0 220h160v-160H400v160ZM180-400h160v-160H180v160Zm440 0h160v-160H620v160ZM180-180h160v-160H180v160Zm440 0h160v-160H620v160Z\"/>\n",
              "  </svg>\n",
              "    </button>\n",
              "\n",
              "  <style>\n",
              "    .colab-df-container {\n",
              "      display:flex;\n",
              "      gap: 12px;\n",
              "    }\n",
              "\n",
              "    .colab-df-convert {\n",
              "      background-color: #E8F0FE;\n",
              "      border: none;\n",
              "      border-radius: 50%;\n",
              "      cursor: pointer;\n",
              "      display: none;\n",
              "      fill: #1967D2;\n",
              "      height: 32px;\n",
              "      padding: 0 0 0 0;\n",
              "      width: 32px;\n",
              "    }\n",
              "\n",
              "    .colab-df-convert:hover {\n",
              "      background-color: #E2EBFA;\n",
              "      box-shadow: 0px 1px 2px rgba(60, 64, 67, 0.3), 0px 1px 3px 1px rgba(60, 64, 67, 0.15);\n",
              "      fill: #174EA6;\n",
              "    }\n",
              "\n",
              "    .colab-df-buttons div {\n",
              "      margin-bottom: 4px;\n",
              "    }\n",
              "\n",
              "    [theme=dark] .colab-df-convert {\n",
              "      background-color: #3B4455;\n",
              "      fill: #D2E3FC;\n",
              "    }\n",
              "\n",
              "    [theme=dark] .colab-df-convert:hover {\n",
              "      background-color: #434B5C;\n",
              "      box-shadow: 0px 1px 3px 1px rgba(0, 0, 0, 0.15);\n",
              "      filter: drop-shadow(0px 1px 2px rgba(0, 0, 0, 0.3));\n",
              "      fill: #FFFFFF;\n",
              "    }\n",
              "  </style>\n",
              "\n",
              "    <script>\n",
              "      const buttonEl =\n",
              "        document.querySelector('#df-5531abed-33bf-426d-bf6d-55d78f510857 button.colab-df-convert');\n",
              "      buttonEl.style.display =\n",
              "        google.colab.kernel.accessAllowed ? 'block' : 'none';\n",
              "\n",
              "      async function convertToInteractive(key) {\n",
              "        const element = document.querySelector('#df-5531abed-33bf-426d-bf6d-55d78f510857');\n",
              "        const dataTable =\n",
              "          await google.colab.kernel.invokeFunction('convertToInteractive',\n",
              "                                                    [key], {});\n",
              "        if (!dataTable) return;\n",
              "\n",
              "        const docLinkHtml = 'Like what you see? Visit the ' +\n",
              "          '<a target=\"_blank\" href=https://colab.research.google.com/notebooks/data_table.ipynb>data table notebook</a>'\n",
              "          + ' to learn more about interactive tables.';\n",
              "        element.innerHTML = '';\n",
              "        dataTable['output_type'] = 'display_data';\n",
              "        await google.colab.output.renderOutput(dataTable, element);\n",
              "        const docLink = document.createElement('div');\n",
              "        docLink.innerHTML = docLinkHtml;\n",
              "        element.appendChild(docLink);\n",
              "      }\n",
              "    </script>\n",
              "  </div>\n",
              "\n",
              "\n",
              "<div id=\"df-1a2bdc2b-1cd4-45bb-b222-1d3cdba7a07d\">\n",
              "  <button class=\"colab-df-quickchart\" onclick=\"quickchart('df-1a2bdc2b-1cd4-45bb-b222-1d3cdba7a07d')\"\n",
              "            title=\"Suggest charts\"\n",
              "            style=\"display:none;\">\n",
              "\n",
              "<svg xmlns=\"http://www.w3.org/2000/svg\" height=\"24px\"viewBox=\"0 0 24 24\"\n",
              "     width=\"24px\">\n",
              "    <g>\n",
              "        <path d=\"M19 3H5c-1.1 0-2 .9-2 2v14c0 1.1.9 2 2 2h14c1.1 0 2-.9 2-2V5c0-1.1-.9-2-2-2zM9 17H7v-7h2v7zm4 0h-2V7h2v10zm4 0h-2v-4h2v4z\"/>\n",
              "    </g>\n",
              "</svg>\n",
              "  </button>\n",
              "\n",
              "<style>\n",
              "  .colab-df-quickchart {\n",
              "      --bg-color: #E8F0FE;\n",
              "      --fill-color: #1967D2;\n",
              "      --hover-bg-color: #E2EBFA;\n",
              "      --hover-fill-color: #174EA6;\n",
              "      --disabled-fill-color: #AAA;\n",
              "      --disabled-bg-color: #DDD;\n",
              "  }\n",
              "\n",
              "  [theme=dark] .colab-df-quickchart {\n",
              "      --bg-color: #3B4455;\n",
              "      --fill-color: #D2E3FC;\n",
              "      --hover-bg-color: #434B5C;\n",
              "      --hover-fill-color: #FFFFFF;\n",
              "      --disabled-bg-color: #3B4455;\n",
              "      --disabled-fill-color: #666;\n",
              "  }\n",
              "\n",
              "  .colab-df-quickchart {\n",
              "    background-color: var(--bg-color);\n",
              "    border: none;\n",
              "    border-radius: 50%;\n",
              "    cursor: pointer;\n",
              "    display: none;\n",
              "    fill: var(--fill-color);\n",
              "    height: 32px;\n",
              "    padding: 0;\n",
              "    width: 32px;\n",
              "  }\n",
              "\n",
              "  .colab-df-quickchart:hover {\n",
              "    background-color: var(--hover-bg-color);\n",
              "    box-shadow: 0 1px 2px rgba(60, 64, 67, 0.3), 0 1px 3px 1px rgba(60, 64, 67, 0.15);\n",
              "    fill: var(--button-hover-fill-color);\n",
              "  }\n",
              "\n",
              "  .colab-df-quickchart-complete:disabled,\n",
              "  .colab-df-quickchart-complete:disabled:hover {\n",
              "    background-color: var(--disabled-bg-color);\n",
              "    fill: var(--disabled-fill-color);\n",
              "    box-shadow: none;\n",
              "  }\n",
              "\n",
              "  .colab-df-spinner {\n",
              "    border: 2px solid var(--fill-color);\n",
              "    border-color: transparent;\n",
              "    border-bottom-color: var(--fill-color);\n",
              "    animation:\n",
              "      spin 1s steps(1) infinite;\n",
              "  }\n",
              "\n",
              "  @keyframes spin {\n",
              "    0% {\n",
              "      border-color: transparent;\n",
              "      border-bottom-color: var(--fill-color);\n",
              "      border-left-color: var(--fill-color);\n",
              "    }\n",
              "    20% {\n",
              "      border-color: transparent;\n",
              "      border-left-color: var(--fill-color);\n",
              "      border-top-color: var(--fill-color);\n",
              "    }\n",
              "    30% {\n",
              "      border-color: transparent;\n",
              "      border-left-color: var(--fill-color);\n",
              "      border-top-color: var(--fill-color);\n",
              "      border-right-color: var(--fill-color);\n",
              "    }\n",
              "    40% {\n",
              "      border-color: transparent;\n",
              "      border-right-color: var(--fill-color);\n",
              "      border-top-color: var(--fill-color);\n",
              "    }\n",
              "    60% {\n",
              "      border-color: transparent;\n",
              "      border-right-color: var(--fill-color);\n",
              "    }\n",
              "    80% {\n",
              "      border-color: transparent;\n",
              "      border-right-color: var(--fill-color);\n",
              "      border-bottom-color: var(--fill-color);\n",
              "    }\n",
              "    90% {\n",
              "      border-color: transparent;\n",
              "      border-bottom-color: var(--fill-color);\n",
              "    }\n",
              "  }\n",
              "</style>\n",
              "\n",
              "  <script>\n",
              "    async function quickchart(key) {\n",
              "      const quickchartButtonEl =\n",
              "        document.querySelector('#' + key + ' button');\n",
              "      quickchartButtonEl.disabled = true;  // To prevent multiple clicks.\n",
              "      quickchartButtonEl.classList.add('colab-df-spinner');\n",
              "      try {\n",
              "        const charts = await google.colab.kernel.invokeFunction(\n",
              "            'suggestCharts', [key], {});\n",
              "      } catch (error) {\n",
              "        console.error('Error during call to suggestCharts:', error);\n",
              "      }\n",
              "      quickchartButtonEl.classList.remove('colab-df-spinner');\n",
              "      quickchartButtonEl.classList.add('colab-df-quickchart-complete');\n",
              "    }\n",
              "    (() => {\n",
              "      let quickchartButtonEl =\n",
              "        document.querySelector('#df-1a2bdc2b-1cd4-45bb-b222-1d3cdba7a07d button');\n",
              "      quickchartButtonEl.style.display =\n",
              "        google.colab.kernel.accessAllowed ? 'block' : 'none';\n",
              "    })();\n",
              "  </script>\n",
              "</div>\n",
              "\n",
              "    </div>\n",
              "  </div>\n"
            ],
            "application/vnd.google.colaboratory.intrinsic+json": {
              "type": "dataframe",
              "variable_name": "email_df",
              "summary": "{\n  \"name\": \"email_df\",\n  \"rows\": 100000,\n  \"fields\": [\n    {\n      \"column\": \"email_id\",\n      \"properties\": {\n        \"dtype\": \"number\",\n        \"std\": 289230,\n        \"min\": 8,\n        \"max\": 999998,\n        \"num_unique_values\": 100000,\n        \"samples\": [\n          416549,\n          248222,\n          242229\n        ],\n        \"semantic_type\": \"\",\n        \"description\": \"\"\n      }\n    },\n    {\n      \"column\": \"email_text\",\n      \"properties\": {\n        \"dtype\": \"category\",\n        \"num_unique_values\": 2,\n        \"samples\": [\n          \"long_email\",\n          \"short_email\"\n        ],\n        \"semantic_type\": \"\",\n        \"description\": \"\"\n      }\n    },\n    {\n      \"column\": \"email_version\",\n      \"properties\": {\n        \"dtype\": \"category\",\n        \"num_unique_values\": 2,\n        \"samples\": [\n          \"generic\",\n          \"personalized\"\n        ],\n        \"semantic_type\": \"\",\n        \"description\": \"\"\n      }\n    },\n    {\n      \"column\": \"hour\",\n      \"properties\": {\n        \"dtype\": \"number\",\n        \"std\": 4,\n        \"min\": 1,\n        \"max\": 24,\n        \"num_unique_values\": 24,\n        \"samples\": [\n          23,\n          17\n        ],\n        \"semantic_type\": \"\",\n        \"description\": \"\"\n      }\n    },\n    {\n      \"column\": \"weekday\",\n      \"properties\": {\n        \"dtype\": \"category\",\n        \"num_unique_values\": 7,\n        \"samples\": [\n          \"Sunday\",\n          \"Wednesday\"\n        ],\n        \"semantic_type\": \"\",\n        \"description\": \"\"\n      }\n    },\n    {\n      \"column\": \"user_country\",\n      \"properties\": {\n        \"dtype\": \"category\",\n        \"num_unique_values\": 4,\n        \"samples\": [\n          \"UK\",\n          \"ES\"\n        ],\n        \"semantic_type\": \"\",\n        \"description\": \"\"\n      }\n    },\n    {\n      \"column\": \"user_past_purchases\",\n      \"properties\": {\n        \"dtype\": \"number\",\n        \"std\": 3,\n        \"min\": 0,\n        \"max\": 22,\n        \"num_unique_values\": 23,\n        \"samples\": [\n          14,\n          11\n        ],\n        \"semantic_type\": \"\",\n        \"description\": \"\"\n      }\n    },\n    {\n      \"column\": \"opened\",\n      \"properties\": {\n        \"dtype\": \"number\",\n        \"std\": 0,\n        \"min\": 0,\n        \"max\": 1,\n        \"num_unique_values\": 2,\n        \"samples\": [\n          1,\n          0\n        ],\n        \"semantic_type\": \"\",\n        \"description\": \"\"\n      }\n    },\n    {\n      \"column\": \"clicked\",\n      \"properties\": {\n        \"dtype\": \"number\",\n        \"std\": 0,\n        \"min\": 0,\n        \"max\": 1,\n        \"num_unique_values\": 2,\n        \"samples\": [\n          1,\n          0\n        ],\n        \"semantic_type\": \"\",\n        \"description\": \"\"\n      }\n    }\n  ]\n}"
            }
          },
          "metadata": {},
          "execution_count": 7
        }
      ]
    },
    {
      "cell_type": "code",
      "source": [
        "df_model = pd.get_dummies(email_df,\n",
        "                          columns=['email_text', 'email_version', 'weekday', 'user_country'],\n",
        "                          drop_first=True)\n",
        "\n",
        "X = df_model.drop(columns=['email_id', 'opened', 'clicked'])  # Features\n",
        "y = df_model['clicked']  # Target: did the user click?"
      ],
      "metadata": {
        "id": "C5GyzHdtOzeY"
      },
      "execution_count": 8,
      "outputs": []
    },
    {
      "cell_type": "code",
      "source": [
        "X_train,X_test,y_train,y_test=train_test_split(X,y,stratify=y,random_state=42)"
      ],
      "metadata": {
        "id": "X7tY_6QpSaZT"
      },
      "execution_count": 9,
      "outputs": []
    },
    {
      "cell_type": "code",
      "source": [
        "from sklearn.ensemble import RandomForestClassifier\n",
        "\n",
        "model= RandomForestClassifier(n_estimators=100,random_state=42)\n",
        "model.fit(X_train,y_train)"
      ],
      "metadata": {
        "colab": {
          "base_uri": "https://localhost:8080/",
          "height": 80
        },
        "id": "7Tv8fDNmSvw4",
        "outputId": "22bf9232-ff5f-4ef8-fd36-602924205efe"
      },
      "execution_count": 10,
      "outputs": [
        {
          "output_type": "execute_result",
          "data": {
            "text/plain": [
              "RandomForestClassifier(random_state=42)"
            ],
            "text/html": [
              "<style>#sk-container-id-1 {\n",
              "  /* Definition of color scheme common for light and dark mode */\n",
              "  --sklearn-color-text: #000;\n",
              "  --sklearn-color-text-muted: #666;\n",
              "  --sklearn-color-line: gray;\n",
              "  /* Definition of color scheme for unfitted estimators */\n",
              "  --sklearn-color-unfitted-level-0: #fff5e6;\n",
              "  --sklearn-color-unfitted-level-1: #f6e4d2;\n",
              "  --sklearn-color-unfitted-level-2: #ffe0b3;\n",
              "  --sklearn-color-unfitted-level-3: chocolate;\n",
              "  /* Definition of color scheme for fitted estimators */\n",
              "  --sklearn-color-fitted-level-0: #f0f8ff;\n",
              "  --sklearn-color-fitted-level-1: #d4ebff;\n",
              "  --sklearn-color-fitted-level-2: #b3dbfd;\n",
              "  --sklearn-color-fitted-level-3: cornflowerblue;\n",
              "\n",
              "  /* Specific color for light theme */\n",
              "  --sklearn-color-text-on-default-background: var(--sg-text-color, var(--theme-code-foreground, var(--jp-content-font-color1, black)));\n",
              "  --sklearn-color-background: var(--sg-background-color, var(--theme-background, var(--jp-layout-color0, white)));\n",
              "  --sklearn-color-border-box: var(--sg-text-color, var(--theme-code-foreground, var(--jp-content-font-color1, black)));\n",
              "  --sklearn-color-icon: #696969;\n",
              "\n",
              "  @media (prefers-color-scheme: dark) {\n",
              "    /* Redefinition of color scheme for dark theme */\n",
              "    --sklearn-color-text-on-default-background: var(--sg-text-color, var(--theme-code-foreground, var(--jp-content-font-color1, white)));\n",
              "    --sklearn-color-background: var(--sg-background-color, var(--theme-background, var(--jp-layout-color0, #111)));\n",
              "    --sklearn-color-border-box: var(--sg-text-color, var(--theme-code-foreground, var(--jp-content-font-color1, white)));\n",
              "    --sklearn-color-icon: #878787;\n",
              "  }\n",
              "}\n",
              "\n",
              "#sk-container-id-1 {\n",
              "  color: var(--sklearn-color-text);\n",
              "}\n",
              "\n",
              "#sk-container-id-1 pre {\n",
              "  padding: 0;\n",
              "}\n",
              "\n",
              "#sk-container-id-1 input.sk-hidden--visually {\n",
              "  border: 0;\n",
              "  clip: rect(1px 1px 1px 1px);\n",
              "  clip: rect(1px, 1px, 1px, 1px);\n",
              "  height: 1px;\n",
              "  margin: -1px;\n",
              "  overflow: hidden;\n",
              "  padding: 0;\n",
              "  position: absolute;\n",
              "  width: 1px;\n",
              "}\n",
              "\n",
              "#sk-container-id-1 div.sk-dashed-wrapped {\n",
              "  border: 1px dashed var(--sklearn-color-line);\n",
              "  margin: 0 0.4em 0.5em 0.4em;\n",
              "  box-sizing: border-box;\n",
              "  padding-bottom: 0.4em;\n",
              "  background-color: var(--sklearn-color-background);\n",
              "}\n",
              "\n",
              "#sk-container-id-1 div.sk-container {\n",
              "  /* jupyter's `normalize.less` sets `[hidden] { display: none; }`\n",
              "     but bootstrap.min.css set `[hidden] { display: none !important; }`\n",
              "     so we also need the `!important` here to be able to override the\n",
              "     default hidden behavior on the sphinx rendered scikit-learn.org.\n",
              "     See: https://github.com/scikit-learn/scikit-learn/issues/21755 */\n",
              "  display: inline-block !important;\n",
              "  position: relative;\n",
              "}\n",
              "\n",
              "#sk-container-id-1 div.sk-text-repr-fallback {\n",
              "  display: none;\n",
              "}\n",
              "\n",
              "div.sk-parallel-item,\n",
              "div.sk-serial,\n",
              "div.sk-item {\n",
              "  /* draw centered vertical line to link estimators */\n",
              "  background-image: linear-gradient(var(--sklearn-color-text-on-default-background), var(--sklearn-color-text-on-default-background));\n",
              "  background-size: 2px 100%;\n",
              "  background-repeat: no-repeat;\n",
              "  background-position: center center;\n",
              "}\n",
              "\n",
              "/* Parallel-specific style estimator block */\n",
              "\n",
              "#sk-container-id-1 div.sk-parallel-item::after {\n",
              "  content: \"\";\n",
              "  width: 100%;\n",
              "  border-bottom: 2px solid var(--sklearn-color-text-on-default-background);\n",
              "  flex-grow: 1;\n",
              "}\n",
              "\n",
              "#sk-container-id-1 div.sk-parallel {\n",
              "  display: flex;\n",
              "  align-items: stretch;\n",
              "  justify-content: center;\n",
              "  background-color: var(--sklearn-color-background);\n",
              "  position: relative;\n",
              "}\n",
              "\n",
              "#sk-container-id-1 div.sk-parallel-item {\n",
              "  display: flex;\n",
              "  flex-direction: column;\n",
              "}\n",
              "\n",
              "#sk-container-id-1 div.sk-parallel-item:first-child::after {\n",
              "  align-self: flex-end;\n",
              "  width: 50%;\n",
              "}\n",
              "\n",
              "#sk-container-id-1 div.sk-parallel-item:last-child::after {\n",
              "  align-self: flex-start;\n",
              "  width: 50%;\n",
              "}\n",
              "\n",
              "#sk-container-id-1 div.sk-parallel-item:only-child::after {\n",
              "  width: 0;\n",
              "}\n",
              "\n",
              "/* Serial-specific style estimator block */\n",
              "\n",
              "#sk-container-id-1 div.sk-serial {\n",
              "  display: flex;\n",
              "  flex-direction: column;\n",
              "  align-items: center;\n",
              "  background-color: var(--sklearn-color-background);\n",
              "  padding-right: 1em;\n",
              "  padding-left: 1em;\n",
              "}\n",
              "\n",
              "\n",
              "/* Toggleable style: style used for estimator/Pipeline/ColumnTransformer box that is\n",
              "clickable and can be expanded/collapsed.\n",
              "- Pipeline and ColumnTransformer use this feature and define the default style\n",
              "- Estimators will overwrite some part of the style using the `sk-estimator` class\n",
              "*/\n",
              "\n",
              "/* Pipeline and ColumnTransformer style (default) */\n",
              "\n",
              "#sk-container-id-1 div.sk-toggleable {\n",
              "  /* Default theme specific background. It is overwritten whether we have a\n",
              "  specific estimator or a Pipeline/ColumnTransformer */\n",
              "  background-color: var(--sklearn-color-background);\n",
              "}\n",
              "\n",
              "/* Toggleable label */\n",
              "#sk-container-id-1 label.sk-toggleable__label {\n",
              "  cursor: pointer;\n",
              "  display: flex;\n",
              "  width: 100%;\n",
              "  margin-bottom: 0;\n",
              "  padding: 0.5em;\n",
              "  box-sizing: border-box;\n",
              "  text-align: center;\n",
              "  align-items: start;\n",
              "  justify-content: space-between;\n",
              "  gap: 0.5em;\n",
              "}\n",
              "\n",
              "#sk-container-id-1 label.sk-toggleable__label .caption {\n",
              "  font-size: 0.6rem;\n",
              "  font-weight: lighter;\n",
              "  color: var(--sklearn-color-text-muted);\n",
              "}\n",
              "\n",
              "#sk-container-id-1 label.sk-toggleable__label-arrow:before {\n",
              "  /* Arrow on the left of the label */\n",
              "  content: \"▸\";\n",
              "  float: left;\n",
              "  margin-right: 0.25em;\n",
              "  color: var(--sklearn-color-icon);\n",
              "}\n",
              "\n",
              "#sk-container-id-1 label.sk-toggleable__label-arrow:hover:before {\n",
              "  color: var(--sklearn-color-text);\n",
              "}\n",
              "\n",
              "/* Toggleable content - dropdown */\n",
              "\n",
              "#sk-container-id-1 div.sk-toggleable__content {\n",
              "  max-height: 0;\n",
              "  max-width: 0;\n",
              "  overflow: hidden;\n",
              "  text-align: left;\n",
              "  /* unfitted */\n",
              "  background-color: var(--sklearn-color-unfitted-level-0);\n",
              "}\n",
              "\n",
              "#sk-container-id-1 div.sk-toggleable__content.fitted {\n",
              "  /* fitted */\n",
              "  background-color: var(--sklearn-color-fitted-level-0);\n",
              "}\n",
              "\n",
              "#sk-container-id-1 div.sk-toggleable__content pre {\n",
              "  margin: 0.2em;\n",
              "  border-radius: 0.25em;\n",
              "  color: var(--sklearn-color-text);\n",
              "  /* unfitted */\n",
              "  background-color: var(--sklearn-color-unfitted-level-0);\n",
              "}\n",
              "\n",
              "#sk-container-id-1 div.sk-toggleable__content.fitted pre {\n",
              "  /* unfitted */\n",
              "  background-color: var(--sklearn-color-fitted-level-0);\n",
              "}\n",
              "\n",
              "#sk-container-id-1 input.sk-toggleable__control:checked~div.sk-toggleable__content {\n",
              "  /* Expand drop-down */\n",
              "  max-height: 200px;\n",
              "  max-width: 100%;\n",
              "  overflow: auto;\n",
              "}\n",
              "\n",
              "#sk-container-id-1 input.sk-toggleable__control:checked~label.sk-toggleable__label-arrow:before {\n",
              "  content: \"▾\";\n",
              "}\n",
              "\n",
              "/* Pipeline/ColumnTransformer-specific style */\n",
              "\n",
              "#sk-container-id-1 div.sk-label input.sk-toggleable__control:checked~label.sk-toggleable__label {\n",
              "  color: var(--sklearn-color-text);\n",
              "  background-color: var(--sklearn-color-unfitted-level-2);\n",
              "}\n",
              "\n",
              "#sk-container-id-1 div.sk-label.fitted input.sk-toggleable__control:checked~label.sk-toggleable__label {\n",
              "  background-color: var(--sklearn-color-fitted-level-2);\n",
              "}\n",
              "\n",
              "/* Estimator-specific style */\n",
              "\n",
              "/* Colorize estimator box */\n",
              "#sk-container-id-1 div.sk-estimator input.sk-toggleable__control:checked~label.sk-toggleable__label {\n",
              "  /* unfitted */\n",
              "  background-color: var(--sklearn-color-unfitted-level-2);\n",
              "}\n",
              "\n",
              "#sk-container-id-1 div.sk-estimator.fitted input.sk-toggleable__control:checked~label.sk-toggleable__label {\n",
              "  /* fitted */\n",
              "  background-color: var(--sklearn-color-fitted-level-2);\n",
              "}\n",
              "\n",
              "#sk-container-id-1 div.sk-label label.sk-toggleable__label,\n",
              "#sk-container-id-1 div.sk-label label {\n",
              "  /* The background is the default theme color */\n",
              "  color: var(--sklearn-color-text-on-default-background);\n",
              "}\n",
              "\n",
              "/* On hover, darken the color of the background */\n",
              "#sk-container-id-1 div.sk-label:hover label.sk-toggleable__label {\n",
              "  color: var(--sklearn-color-text);\n",
              "  background-color: var(--sklearn-color-unfitted-level-2);\n",
              "}\n",
              "\n",
              "/* Label box, darken color on hover, fitted */\n",
              "#sk-container-id-1 div.sk-label.fitted:hover label.sk-toggleable__label.fitted {\n",
              "  color: var(--sklearn-color-text);\n",
              "  background-color: var(--sklearn-color-fitted-level-2);\n",
              "}\n",
              "\n",
              "/* Estimator label */\n",
              "\n",
              "#sk-container-id-1 div.sk-label label {\n",
              "  font-family: monospace;\n",
              "  font-weight: bold;\n",
              "  display: inline-block;\n",
              "  line-height: 1.2em;\n",
              "}\n",
              "\n",
              "#sk-container-id-1 div.sk-label-container {\n",
              "  text-align: center;\n",
              "}\n",
              "\n",
              "/* Estimator-specific */\n",
              "#sk-container-id-1 div.sk-estimator {\n",
              "  font-family: monospace;\n",
              "  border: 1px dotted var(--sklearn-color-border-box);\n",
              "  border-radius: 0.25em;\n",
              "  box-sizing: border-box;\n",
              "  margin-bottom: 0.5em;\n",
              "  /* unfitted */\n",
              "  background-color: var(--sklearn-color-unfitted-level-0);\n",
              "}\n",
              "\n",
              "#sk-container-id-1 div.sk-estimator.fitted {\n",
              "  /* fitted */\n",
              "  background-color: var(--sklearn-color-fitted-level-0);\n",
              "}\n",
              "\n",
              "/* on hover */\n",
              "#sk-container-id-1 div.sk-estimator:hover {\n",
              "  /* unfitted */\n",
              "  background-color: var(--sklearn-color-unfitted-level-2);\n",
              "}\n",
              "\n",
              "#sk-container-id-1 div.sk-estimator.fitted:hover {\n",
              "  /* fitted */\n",
              "  background-color: var(--sklearn-color-fitted-level-2);\n",
              "}\n",
              "\n",
              "/* Specification for estimator info (e.g. \"i\" and \"?\") */\n",
              "\n",
              "/* Common style for \"i\" and \"?\" */\n",
              "\n",
              ".sk-estimator-doc-link,\n",
              "a:link.sk-estimator-doc-link,\n",
              "a:visited.sk-estimator-doc-link {\n",
              "  float: right;\n",
              "  font-size: smaller;\n",
              "  line-height: 1em;\n",
              "  font-family: monospace;\n",
              "  background-color: var(--sklearn-color-background);\n",
              "  border-radius: 1em;\n",
              "  height: 1em;\n",
              "  width: 1em;\n",
              "  text-decoration: none !important;\n",
              "  margin-left: 0.5em;\n",
              "  text-align: center;\n",
              "  /* unfitted */\n",
              "  border: var(--sklearn-color-unfitted-level-1) 1pt solid;\n",
              "  color: var(--sklearn-color-unfitted-level-1);\n",
              "}\n",
              "\n",
              ".sk-estimator-doc-link.fitted,\n",
              "a:link.sk-estimator-doc-link.fitted,\n",
              "a:visited.sk-estimator-doc-link.fitted {\n",
              "  /* fitted */\n",
              "  border: var(--sklearn-color-fitted-level-1) 1pt solid;\n",
              "  color: var(--sklearn-color-fitted-level-1);\n",
              "}\n",
              "\n",
              "/* On hover */\n",
              "div.sk-estimator:hover .sk-estimator-doc-link:hover,\n",
              ".sk-estimator-doc-link:hover,\n",
              "div.sk-label-container:hover .sk-estimator-doc-link:hover,\n",
              ".sk-estimator-doc-link:hover {\n",
              "  /* unfitted */\n",
              "  background-color: var(--sklearn-color-unfitted-level-3);\n",
              "  color: var(--sklearn-color-background);\n",
              "  text-decoration: none;\n",
              "}\n",
              "\n",
              "div.sk-estimator.fitted:hover .sk-estimator-doc-link.fitted:hover,\n",
              ".sk-estimator-doc-link.fitted:hover,\n",
              "div.sk-label-container:hover .sk-estimator-doc-link.fitted:hover,\n",
              ".sk-estimator-doc-link.fitted:hover {\n",
              "  /* fitted */\n",
              "  background-color: var(--sklearn-color-fitted-level-3);\n",
              "  color: var(--sklearn-color-background);\n",
              "  text-decoration: none;\n",
              "}\n",
              "\n",
              "/* Span, style for the box shown on hovering the info icon */\n",
              ".sk-estimator-doc-link span {\n",
              "  display: none;\n",
              "  z-index: 9999;\n",
              "  position: relative;\n",
              "  font-weight: normal;\n",
              "  right: .2ex;\n",
              "  padding: .5ex;\n",
              "  margin: .5ex;\n",
              "  width: min-content;\n",
              "  min-width: 20ex;\n",
              "  max-width: 50ex;\n",
              "  color: var(--sklearn-color-text);\n",
              "  box-shadow: 2pt 2pt 4pt #999;\n",
              "  /* unfitted */\n",
              "  background: var(--sklearn-color-unfitted-level-0);\n",
              "  border: .5pt solid var(--sklearn-color-unfitted-level-3);\n",
              "}\n",
              "\n",
              ".sk-estimator-doc-link.fitted span {\n",
              "  /* fitted */\n",
              "  background: var(--sklearn-color-fitted-level-0);\n",
              "  border: var(--sklearn-color-fitted-level-3);\n",
              "}\n",
              "\n",
              ".sk-estimator-doc-link:hover span {\n",
              "  display: block;\n",
              "}\n",
              "\n",
              "/* \"?\"-specific style due to the `<a>` HTML tag */\n",
              "\n",
              "#sk-container-id-1 a.estimator_doc_link {\n",
              "  float: right;\n",
              "  font-size: 1rem;\n",
              "  line-height: 1em;\n",
              "  font-family: monospace;\n",
              "  background-color: var(--sklearn-color-background);\n",
              "  border-radius: 1rem;\n",
              "  height: 1rem;\n",
              "  width: 1rem;\n",
              "  text-decoration: none;\n",
              "  /* unfitted */\n",
              "  color: var(--sklearn-color-unfitted-level-1);\n",
              "  border: var(--sklearn-color-unfitted-level-1) 1pt solid;\n",
              "}\n",
              "\n",
              "#sk-container-id-1 a.estimator_doc_link.fitted {\n",
              "  /* fitted */\n",
              "  border: var(--sklearn-color-fitted-level-1) 1pt solid;\n",
              "  color: var(--sklearn-color-fitted-level-1);\n",
              "}\n",
              "\n",
              "/* On hover */\n",
              "#sk-container-id-1 a.estimator_doc_link:hover {\n",
              "  /* unfitted */\n",
              "  background-color: var(--sklearn-color-unfitted-level-3);\n",
              "  color: var(--sklearn-color-background);\n",
              "  text-decoration: none;\n",
              "}\n",
              "\n",
              "#sk-container-id-1 a.estimator_doc_link.fitted:hover {\n",
              "  /* fitted */\n",
              "  background-color: var(--sklearn-color-fitted-level-3);\n",
              "}\n",
              "</style><div id=\"sk-container-id-1\" class=\"sk-top-container\"><div class=\"sk-text-repr-fallback\"><pre>RandomForestClassifier(random_state=42)</pre><b>In a Jupyter environment, please rerun this cell to show the HTML representation or trust the notebook. <br />On GitHub, the HTML representation is unable to render, please try loading this page with nbviewer.org.</b></div><div class=\"sk-container\" hidden><div class=\"sk-item\"><div class=\"sk-estimator fitted sk-toggleable\"><input class=\"sk-toggleable__control sk-hidden--visually\" id=\"sk-estimator-id-1\" type=\"checkbox\" checked><label for=\"sk-estimator-id-1\" class=\"sk-toggleable__label fitted sk-toggleable__label-arrow\"><div><div>RandomForestClassifier</div></div><div><a class=\"sk-estimator-doc-link fitted\" rel=\"noreferrer\" target=\"_blank\" href=\"https://scikit-learn.org/1.6/modules/generated/sklearn.ensemble.RandomForestClassifier.html\">?<span>Documentation for RandomForestClassifier</span></a><span class=\"sk-estimator-doc-link fitted\">i<span>Fitted</span></span></div></label><div class=\"sk-toggleable__content fitted\"><pre>RandomForestClassifier(random_state=42)</pre></div> </div></div></div></div>"
            ]
          },
          "metadata": {},
          "execution_count": 10
        }
      ]
    },
    {
      "cell_type": "code",
      "source": [
        "y_pred = model.predict(X_test)\n",
        "y_prob = model.predict_proba(X_test)[:,1]"
      ],
      "metadata": {
        "id": "PBKt6yI2VBL0"
      },
      "execution_count": 11,
      "outputs": []
    },
    {
      "cell_type": "code",
      "source": [
        "from sklearn.metrics import accuracy_score\n",
        "\n",
        "accuracy = accuracy_score(y_test, y_pred)\n",
        "print(f\"Accuracy: {accuracy:.2%}\")\n"
      ],
      "metadata": {
        "colab": {
          "base_uri": "https://localhost:8080/"
        },
        "id": "_Iy_uhFvVRiW",
        "outputId": "7aaa79df-ff35-49d4-c299-ced4ef088f5a"
      },
      "execution_count": 12,
      "outputs": [
        {
          "output_type": "stream",
          "name": "stdout",
          "text": [
            "Accuracy: 97.59%\n"
          ]
        }
      ]
    },
    {
      "cell_type": "code",
      "source": [
        "from sklearn.metrics import confusion_matrix\n",
        "\n",
        "cm = confusion_matrix(y_test, y_pred)\n",
        "print(\"Confusion Matrix:\\n\", cm)\n"
      ],
      "metadata": {
        "colab": {
          "base_uri": "https://localhost:8080/"
        },
        "id": "VMReqKHhVToR",
        "outputId": "3ad025bc-0f7b-4dac-932a-7ad0fdeb2cb0"
      },
      "execution_count": 13,
      "outputs": [
        {
          "output_type": "stream",
          "name": "stdout",
          "text": [
            "Confusion Matrix:\n",
            " [[24390    80]\n",
            " [  522     8]]\n"
          ]
        }
      ]
    },
    {
      "cell_type": "code",
      "source": [
        "from sklearn.metrics import classification_report\n",
        "print(classification_report(y_test, y_pred))\n"
      ],
      "metadata": {
        "colab": {
          "base_uri": "https://localhost:8080/"
        },
        "id": "_cS7xWdwVYop",
        "outputId": "c8172a6c-92f9-485f-c295-9e6c9f61cc49"
      },
      "execution_count": 14,
      "outputs": [
        {
          "output_type": "stream",
          "name": "stdout",
          "text": [
            "              precision    recall  f1-score   support\n",
            "\n",
            "           0       0.98      1.00      0.99     24470\n",
            "           1       0.09      0.02      0.03       530\n",
            "\n",
            "    accuracy                           0.98     25000\n",
            "   macro avg       0.53      0.51      0.51     25000\n",
            "weighted avg       0.96      0.98      0.97     25000\n",
            "\n"
          ]
        }
      ]
    },
    {
      "cell_type": "markdown",
      "source": [
        "Trying to choose the best model"
      ],
      "metadata": {
        "id": "0hWAIyDsVgnx"
      }
    },
    {
      "cell_type": "code",
      "source": [
        "from sklearn.linear_model import LogisticRegression\n",
        "log_model=LogisticRegression(max_iter=1000,random_state=42)\n",
        "log_model.fit(X_train,y_train)\n",
        "log_pred=log_model.predict(X_test)\n",
        "log_prob=log_model.predict_proba(X_test)[:-1]\n",
        "\n",
        "print('Logistic regression:')\n",
        "print(classification_report(y_test,log_pred))\n",
        "print(f\"Accuracy: {accuracy_score(y_test, log_pred):.2%}\")"
      ],
      "metadata": {
        "colab": {
          "base_uri": "https://localhost:8080/"
        },
        "id": "tqPFVfd2Vf99",
        "outputId": "ec3c0e0b-55b5-41a6-b232-939fec477e47"
      },
      "execution_count": 15,
      "outputs": [
        {
          "output_type": "stream",
          "name": "stdout",
          "text": [
            "Logistic regression:\n",
            "              precision    recall  f1-score   support\n",
            "\n",
            "           0       0.98      1.00      0.99     24470\n",
            "           1       0.00      0.00      0.00       530\n",
            "\n",
            "    accuracy                           0.98     25000\n",
            "   macro avg       0.49      0.50      0.49     25000\n",
            "weighted avg       0.96      0.98      0.97     25000\n",
            "\n",
            "Accuracy: 97.88%\n"
          ]
        },
        {
          "output_type": "stream",
          "name": "stderr",
          "text": [
            "/usr/local/lib/python3.11/dist-packages/sklearn/metrics/_classification.py:1565: UndefinedMetricWarning: Precision is ill-defined and being set to 0.0 in labels with no predicted samples. Use `zero_division` parameter to control this behavior.\n",
            "  _warn_prf(average, modifier, f\"{metric.capitalize()} is\", len(result))\n",
            "/usr/local/lib/python3.11/dist-packages/sklearn/metrics/_classification.py:1565: UndefinedMetricWarning: Precision is ill-defined and being set to 0.0 in labels with no predicted samples. Use `zero_division` parameter to control this behavior.\n",
            "  _warn_prf(average, modifier, f\"{metric.capitalize()} is\", len(result))\n",
            "/usr/local/lib/python3.11/dist-packages/sklearn/metrics/_classification.py:1565: UndefinedMetricWarning: Precision is ill-defined and being set to 0.0 in labels with no predicted samples. Use `zero_division` parameter to control this behavior.\n",
            "  _warn_prf(average, modifier, f\"{metric.capitalize()} is\", len(result))\n"
          ]
        }
      ]
    },
    {
      "cell_type": "code",
      "source": [
        "from xgboost import XGBClassifier\n",
        "xgb_model=XGBClassifier(use_label_encode=False,eval_metric='logloss',random_state=42)\n",
        "xgb_model.fit(X_train,y_train)\n",
        "xgb_pred=xgb_model.predict(X_test)\n",
        "xgb_prob=xgb_model.predict_proba(X_test)[:,1]\n",
        "print(\"XGBoost Classifier:\")\n",
        "print(classification_report(y_test,xgb_pred))\n",
        "print(f\"Accuracy: {accuracy_score(y_test, xgb_pred):.2%}\")"
      ],
      "metadata": {
        "colab": {
          "base_uri": "https://localhost:8080/"
        },
        "id": "y4l5XWnMW3Aw",
        "outputId": "0d353d29-f235-4c12-d7c3-5e43a80c595c"
      },
      "execution_count": 16,
      "outputs": [
        {
          "output_type": "stream",
          "name": "stderr",
          "text": [
            "/usr/local/lib/python3.11/dist-packages/xgboost/core.py:158: UserWarning: [12:47:08] WARNING: /workspace/src/learner.cc:740: \n",
            "Parameters: { \"use_label_encode\" } are not used.\n",
            "\n",
            "  warnings.warn(smsg, UserWarning)\n"
          ]
        },
        {
          "output_type": "stream",
          "name": "stdout",
          "text": [
            "XGBoost Classifier:\n",
            "              precision    recall  f1-score   support\n",
            "\n",
            "           0       0.98      1.00      0.99     24470\n",
            "           1       0.00      0.00      0.00       530\n",
            "\n",
            "    accuracy                           0.98     25000\n",
            "   macro avg       0.49      0.50      0.49     25000\n",
            "weighted avg       0.96      0.98      0.97     25000\n",
            "\n",
            "Accuracy: 97.86%\n"
          ]
        }
      ]
    },
    {
      "cell_type": "code",
      "source": [
        "import lightgbm as lgb\n",
        "lgb_model=lgb.LGBMClassifier(random_state=42)\n",
        "lgb_model.fit(X_train,y_train)\n",
        "lgb_pred=lgb_model.predict(X_test)\n",
        "lgb_prob=lgb_model.predict_proba(X_test)[:,1]\n",
        "print(\"LightGBM Classifier:\")\n",
        "print(classification_report(y_test,lgb_pred))\n",
        "print(f\"Accuracy: {accuracy_score(y_test, lgb_pred):.2%}\")"
      ],
      "metadata": {
        "colab": {
          "base_uri": "https://localhost:8080/"
        },
        "id": "4htnG9IMYPa8",
        "outputId": "df6b9a16-54a1-44aa-b2f1-ac6044fc0111"
      },
      "execution_count": 17,
      "outputs": [
        {
          "output_type": "stream",
          "name": "stdout",
          "text": [
            "[LightGBM] [Info] Number of positive: 1589, number of negative: 73411\n",
            "[LightGBM] [Info] Auto-choosing row-wise multi-threading, the overhead of testing was 0.003915 seconds.\n",
            "You can set `force_row_wise=true` to remove the overhead.\n",
            "And if memory is not enough, you can set `force_col_wise=true`.\n",
            "[LightGBM] [Info] Total Bins 70\n",
            "[LightGBM] [Info] Number of data points in the train set: 75000, number of used features: 13\n",
            "[LightGBM] [Info] [binary:BoostFromScore]: pavg=0.021187 -> initscore=-3.832969\n",
            "[LightGBM] [Info] Start training from score -3.832969\n",
            "LightGBM Classifier:\n",
            "              precision    recall  f1-score   support\n",
            "\n",
            "           0       0.98      1.00      0.99     24470\n",
            "           1       0.00      0.00      0.00       530\n",
            "\n",
            "    accuracy                           0.98     25000\n",
            "   macro avg       0.49      0.50      0.49     25000\n",
            "weighted avg       0.96      0.98      0.97     25000\n",
            "\n",
            "Accuracy: 97.88%\n"
          ]
        }
      ]
    },
    {
      "cell_type": "markdown",
      "source": [
        "Accuracy is misleadingly high (~98%) because the dataset is imbalanced: most users don't click.\n",
        "\n",
        "Only Random Forest predicted a few positives (clicked = 1). The others predicted only 0s, which explains their precision/recall of 0.00 for class 1.\n",
        "\n",
        " Random Forest, while still weak, is doing slightly better at identifying potential clickers."
      ],
      "metadata": {
        "id": "h9OMy4DmYo8R"
      }
    },
    {
      "cell_type": "markdown",
      "source": [
        "Conclusions- High class imbalance, only random forest predicts a few positives"
      ],
      "metadata": {
        "id": "BKORweSDaY3M"
      }
    },
    {
      "cell_type": "markdown",
      "source": [
        "#Applying SMOTE"
      ],
      "metadata": {
        "id": "IKDTYx3GbJBO"
      }
    },
    {
      "cell_type": "code",
      "source": [
        "from imblearn.over_sampling import SMOTE\n",
        "smote=SMOTE(random_state=42)\n",
        "X_resampled,y_resampled=smote.fit_resample(X_train,y_train)\n",
        "print('After SMOTE:')\n",
        "print(pd.Series(y_resampled).value_counts())"
      ],
      "metadata": {
        "colab": {
          "base_uri": "https://localhost:8080/"
        },
        "id": "wdshpX8nZ8NX",
        "outputId": "fc6742ed-f6bb-493a-d143-8e72fb2de3aa"
      },
      "execution_count": 18,
      "outputs": [
        {
          "output_type": "stream",
          "name": "stdout",
          "text": [
            "After SMOTE:\n",
            "clicked\n",
            "0    73411\n",
            "1    73411\n",
            "Name: count, dtype: int64\n"
          ]
        }
      ]
    },
    {
      "cell_type": "code",
      "source": [
        "from sklearn.ensemble import RandomForestClassifier\n",
        "from sklearn.linear_model import LogisticRegression\n",
        "from xgboost import XGBClassifier\n",
        "import lightgbm as lgb\n",
        "models = {\n",
        "    \"Random Forest\": RandomForestClassifier(n_estimators=100, random_state=42),\n",
        "    \"Logistic Regression\": LogisticRegression(max_iter=1000, random_state=42),\n",
        "    \"XGBoost\": XGBClassifier(use_label_encoder=False, eval_metric='logloss', random_state=42),\n",
        "    \"LightGBM\": lgb.LGBMClassifier(random_state=42)\n",
        "}\n",
        "\n",
        "\n",
        "for name, model in models.items():\n",
        "    print(f\"\\n🚀 Training {name}\")\n",
        "    model.fit(X_resampled, y_resampled)\n",
        "\n",
        "    y_pred = model.predict(X_test)\n",
        "    y_prob = model.predict_proba(X_test)[:, 1]\n",
        "\n",
        "    print(classification_report(y_test, y_pred))\n",
        "    print(f\"Accuracy: {accuracy_score(y_test, y_pred):.2%}\")\n"
      ],
      "metadata": {
        "colab": {
          "base_uri": "https://localhost:8080/"
        },
        "id": "RM3f4OR7cUWZ",
        "outputId": "52450ce2-e170-4a1f-c0c1-702359a4461c"
      },
      "execution_count": 19,
      "outputs": [
        {
          "output_type": "stream",
          "name": "stdout",
          "text": [
            "\n",
            "🚀 Training Random Forest\n",
            "              precision    recall  f1-score   support\n",
            "\n",
            "           0       0.98      0.85      0.91     24470\n",
            "           1       0.03      0.22      0.05       530\n",
            "\n",
            "    accuracy                           0.83     25000\n",
            "   macro avg       0.51      0.53      0.48     25000\n",
            "weighted avg       0.96      0.83      0.89     25000\n",
            "\n",
            "Accuracy: 83.30%\n",
            "\n",
            "🚀 Training Logistic Regression\n",
            "              precision    recall  f1-score   support\n",
            "\n",
            "           0       0.98      0.72      0.83     24470\n",
            "           1       0.03      0.46      0.06       530\n",
            "\n",
            "    accuracy                           0.72     25000\n",
            "   macro avg       0.51      0.59      0.45     25000\n",
            "weighted avg       0.96      0.72      0.82     25000\n",
            "\n",
            "Accuracy: 71.58%\n",
            "\n",
            "🚀 Training XGBoost\n"
          ]
        },
        {
          "output_type": "stream",
          "name": "stderr",
          "text": [
            "/usr/local/lib/python3.11/dist-packages/xgboost/core.py:158: UserWarning: [12:47:29] WARNING: /workspace/src/learner.cc:740: \n",
            "Parameters: { \"use_label_encoder\" } are not used.\n",
            "\n",
            "  warnings.warn(smsg, UserWarning)\n"
          ]
        },
        {
          "output_type": "stream",
          "name": "stdout",
          "text": [
            "              precision    recall  f1-score   support\n",
            "\n",
            "           0       0.98      0.76      0.86     24470\n",
            "           1       0.03      0.31      0.05       530\n",
            "\n",
            "    accuracy                           0.75     25000\n",
            "   macro avg       0.50      0.53      0.45     25000\n",
            "weighted avg       0.96      0.75      0.84     25000\n",
            "\n",
            "Accuracy: 74.88%\n",
            "\n",
            "🚀 Training LightGBM\n",
            "[LightGBM] [Info] Number of positive: 73411, number of negative: 73411\n",
            "[LightGBM] [Info] Auto-choosing row-wise multi-threading, the overhead of testing was 0.003361 seconds.\n",
            "You can set `force_row_wise=true` to remove the overhead.\n",
            "And if memory is not enough, you can set `force_col_wise=true`.\n",
            "[LightGBM] [Info] Total Bins 70\n",
            "[LightGBM] [Info] Number of data points in the train set: 146822, number of used features: 13\n",
            "[LightGBM] [Info] [binary:BoostFromScore]: pavg=0.500000 -> initscore=0.000000\n",
            "              precision    recall  f1-score   support\n",
            "\n",
            "           0       0.98      0.74      0.84     24470\n",
            "           1       0.03      0.41      0.06       530\n",
            "\n",
            "    accuracy                           0.73     25000\n",
            "   macro avg       0.51      0.58      0.45     25000\n",
            "weighted avg       0.96      0.73      0.83     25000\n",
            "\n",
            "Accuracy: 73.28%\n"
          ]
        }
      ]
    },
    {
      "cell_type": "markdown",
      "source": [
        "Class-weighted Random Forest"
      ],
      "metadata": {
        "id": "_pICFibh0U5r"
      }
    },
    {
      "cell_type": "markdown",
      "source": [
        " adjusts the weights to pay more attention to the minority class (clicked = 1)"
      ],
      "metadata": {
        "id": "bxFdtyVUY8o5"
      }
    },
    {
      "cell_type": "code",
      "source": [
        "\n",
        "rf = RandomForestClassifier(n_estimators=100, class_weight='balanced', random_state=42)\n",
        "rf.fit(X_train, y_train)\n",
        "y_prob_rf = rf.predict_proba(X_test)[:, 1]\n",
        "\n",
        "threshold_rf = 0.3\n",
        "y_pred_rf = (y_prob_rf >= threshold_rf).astype(int)\n",
        "\n",
        "print(\" Random Forest (class_weight + threshold tuning)\")\n",
        "print(classification_report(y_test, y_pred_rf))\n",
        "print(f\"Accuracy: {accuracy_score(y_test, y_pred_rf):.2%}\")\n"
      ],
      "metadata": {
        "colab": {
          "base_uri": "https://localhost:8080/"
        },
        "id": "DuFXxRYqz7F6",
        "outputId": "d5cab386-2c0f-4bea-8040-d7c81040ba34"
      },
      "execution_count": 20,
      "outputs": [
        {
          "output_type": "stream",
          "name": "stdout",
          "text": [
            " Random Forest (class_weight + threshold tuning)\n",
            "              precision    recall  f1-score   support\n",
            "\n",
            "           0       0.98      0.88      0.93     24470\n",
            "           1       0.03      0.18      0.05       530\n",
            "\n",
            "    accuracy                           0.87     25000\n",
            "   macro avg       0.51      0.53      0.49     25000\n",
            "weighted avg       0.96      0.87      0.91     25000\n",
            "\n",
            "Accuracy: 86.96%\n"
          ]
        }
      ]
    },
    {
      "cell_type": "markdown",
      "source": [
        "using grid search"
      ],
      "metadata": {
        "id": "Aqap3ItV0lXC"
      }
    },
    {
      "cell_type": "code",
      "source": [
        "from sklearn.model_selection import GridSearchCV\n",
        "\n",
        "param_grid_rf = {\n",
        "    'n_estimators': [100, 200],\n",
        "    'max_depth': [5, 10, None],\n",
        "    'class_weight': ['balanced']\n",
        "}\n",
        "\n",
        "grid_rf = GridSearchCV(RandomForestClassifier(random_state=42),\n",
        "                       param_grid_rf, scoring='f1', cv=3, n_jobs=-1, verbose=1)\n",
        "grid_rf.fit(X_train, y_train)\n",
        "\n",
        "best_rf = grid_rf.best_estimator_\n",
        "y_pred_rf_grid = best_rf.predict(X_test)\n",
        "y_prob_rf_grid = best_rf.predict_proba(X_test)[:, 1]\n",
        "\n",
        "print(\"Best Random Forest from GridSearch:\")\n",
        "print(classification_report(y_test, y_pred_rf_grid))\n",
        "print(f\"ROC AUC: {roc_auc_score(y_test, y_prob_rf_grid):.3f}\")\n",
        "print(f\"Accuracy: {accuracy_score(y_test, y_pred_rf):.2%}\")"
      ],
      "metadata": {
        "colab": {
          "base_uri": "https://localhost:8080/"
        },
        "id": "XstyvCkK0gRN",
        "outputId": "3bf19c19-1375-47f1-df2d-6820b61829a5"
      },
      "execution_count": 21,
      "outputs": [
        {
          "output_type": "stream",
          "name": "stdout",
          "text": [
            "Fitting 3 folds for each of 6 candidates, totalling 18 fits\n",
            "Best Random Forest from GridSearch:\n",
            "              precision    recall  f1-score   support\n",
            "\n",
            "           0       0.99      0.74      0.85     24470\n",
            "           1       0.04      0.56      0.08       530\n",
            "\n",
            "    accuracy                           0.74     25000\n",
            "   macro avg       0.52      0.65      0.47     25000\n",
            "weighted avg       0.97      0.74      0.83     25000\n",
            "\n",
            "ROC AUC: 0.727\n",
            "Accuracy: 86.96%\n"
          ]
        }
      ]
    },
    {
      "cell_type": "code",
      "source": [
        "xgb = XGBClassifier(scale_pos_weight=(len(y_train) - sum(y_train)) / sum(y_train),\n",
        "                    eval_metric='logloss', random_state=42, use_label_encoder=False)\n",
        "xgb.fit(X_train, y_train)\n",
        "y_prob_xgb = xgb.predict_proba(X_test)[:, 1]\n",
        "\n",
        "threshold_xgb = 0.3\n",
        "y_pred_xgb = (y_prob_xgb >= threshold_xgb).astype(int)\n",
        "\n",
        "print(\"XGBoost (scale_pos_weight + threshold tuning)\")\n",
        "print(classification_report(y_test, y_pred_xgb))\n",
        "print(f\"ROC AUC: {roc_auc_score(y_test, y_prob_xgb):.3f}\")\n",
        "print(f\"Accuracy: {accuracy_score(y_test, y_pred_rf):.2%}\")\n"
      ],
      "metadata": {
        "colab": {
          "base_uri": "https://localhost:8080/"
        },
        "id": "Xfu4fuyV1f30",
        "outputId": "b49acd27-28a5-4838-ef21-3a56c85ad66d"
      },
      "execution_count": 22,
      "outputs": [
        {
          "output_type": "stream",
          "name": "stderr",
          "text": [
            "/usr/local/lib/python3.11/dist-packages/xgboost/core.py:158: UserWarning: [12:48:54] WARNING: /workspace/src/learner.cc:740: \n",
            "Parameters: { \"use_label_encoder\" } are not used.\n",
            "\n",
            "  warnings.warn(smsg, UserWarning)\n"
          ]
        },
        {
          "output_type": "stream",
          "name": "stdout",
          "text": [
            "XGBoost (scale_pos_weight + threshold tuning)\n",
            "              precision    recall  f1-score   support\n",
            "\n",
            "           0       0.99      0.51      0.67     24470\n",
            "           1       0.03      0.74      0.06       530\n",
            "\n",
            "    accuracy                           0.52     25000\n",
            "   macro avg       0.51      0.63      0.37     25000\n",
            "weighted avg       0.97      0.52      0.66     25000\n",
            "\n",
            "ROC AUC: 0.690\n",
            "Accuracy: 86.96%\n"
          ]
        }
      ]
    },
    {
      "cell_type": "code",
      "source": [
        "import lightgbm as lgb\n",
        "\n",
        "lgbm = lgb.LGBMClassifier(class_weight='balanced', random_state=42)\n",
        "lgbm.fit(X_train, y_train)\n",
        "y_prob_lgb = lgbm.predict_proba(X_test)[:, 1]\n",
        "\n",
        "threshold_lgb = 0.3\n",
        "y_pred_lgb = (y_prob_lgb >= threshold_lgb).astype(int)\n",
        "\n",
        "print(\" LightGBM (class_weight + threshold tuning)\")\n",
        "print(classification_report(y_test, y_pred_lgb))\n",
        "print(f\"ROC AUC: {roc_auc_score(y_test, y_prob_lgb):.3f}\")\n",
        "print(f\"Accuracy: {accuracy_score(y_test, y_pred_rf):.2%}\")"
      ],
      "metadata": {
        "colab": {
          "base_uri": "https://localhost:8080/"
        },
        "id": "-oRn7qMT1nCN",
        "outputId": "d2837a13-2555-47a2-e723-c9d3a575533d"
      },
      "execution_count": 23,
      "outputs": [
        {
          "output_type": "stream",
          "name": "stdout",
          "text": [
            "[LightGBM] [Info] Number of positive: 1589, number of negative: 73411\n",
            "[LightGBM] [Info] Auto-choosing row-wise multi-threading, the overhead of testing was 0.001689 seconds.\n",
            "You can set `force_row_wise=true` to remove the overhead.\n",
            "And if memory is not enough, you can set `force_col_wise=true`.\n",
            "[LightGBM] [Info] Total Bins 70\n",
            "[LightGBM] [Info] Number of data points in the train set: 75000, number of used features: 13\n",
            "[LightGBM] [Info] [binary:BoostFromScore]: pavg=0.500000 -> initscore=-0.000000\n",
            "[LightGBM] [Info] Start training from score -0.000000\n",
            " LightGBM (class_weight + threshold tuning)\n",
            "              precision    recall  f1-score   support\n",
            "\n",
            "           0       0.99      0.41      0.58     24470\n",
            "           1       0.03      0.85      0.06       530\n",
            "\n",
            "    accuracy                           0.42     25000\n",
            "   macro avg       0.51      0.63      0.32     25000\n",
            "weighted avg       0.97      0.42      0.57     25000\n",
            "\n",
            "ROC AUC: 0.727\n",
            "Accuracy: 86.96%\n"
          ]
        }
      ]
    },
    {
      "cell_type": "markdown",
      "source": [
        "LightGBM and XGBOOST- aggressively predicts clicks- high recall but very low precison\n",
        "\n",
        "Random forest - best balance- 56% recall and highest RC AUC.\n",
        "\n",
        "Random forest with grid search- good model therefore we will go ahead with-\n",
        "\n",
        "1. Prediciting click probablities\n",
        "2. Estimating CTR improvement\n",
        "3. Feature Importance"
      ],
      "metadata": {
        "id": "HdZKFYAJIIbn"
      }
    },
    {
      "cell_type": "code",
      "source": [
        "#Feature Importances\n",
        "\n",
        "imp=pd.Series(rf.feature_importances_,index=X.columns).sort_values(ascending=False)\n",
        "plt.figure(figsize=(8,6))\n",
        "sns.barplot(x=imp[:10],y=imp.index[:10])\n",
        "plt.title('Top 10 Feature Importances')\n",
        "plt.xlabel('Importance')\n",
        "plt.ylabel('Features')\n",
        "plt.tight_layout()\n",
        "plt.show()"
      ],
      "metadata": {
        "colab": {
          "base_uri": "https://localhost:8080/",
          "height": 607
        },
        "id": "Pm4Vxu1ZJYUV",
        "outputId": "5073bd68-2f10-4a00-ef76-d1dd3f9fc246"
      },
      "execution_count": 25,
      "outputs": [
        {
          "output_type": "display_data",
          "data": {
            "text/plain": [
              "<Figure size 800x600 with 1 Axes>"
            ],
            "image/png": "[encoded data removed]"
          },
          "metadata": {}
        }
      ]
    },
    {
      "cell_type": "code",
      "source": [
        "#ctr improvement -\n",
        "\n",
        "email_df['click_proba'] = rf.predict_proba(X)[:, 1]\n",
        "\n",
        "\n",
        "threshold_90 = np.percentile(email_df['click_proba'], 90)\n",
        "top_10pct = email_df[email_df['click_proba'] >= threshold_90]\n",
        "\n",
        "ctr_top = top_10pct['clicked'].mean()\n",
        "ctr_all = email_df['clicked'].mean()\n",
        "\n",
        "print(f\"CTR (All Users): {ctr_all:.2%}\")\n",
        "print(f\"CTR (Top 10% Users by Model): {ctr_top:.2%}\")\n",
        "print(f\"Estimated CTR Uplift: {(ctr_top - ctr_all)/ctr_all * 100:.2f}%\")\n",
        "\n"
      ],
      "metadata": {
        "colab": {
          "base_uri": "https://localhost:8080/"
        },
        "id": "aT2f550zKL9-",
        "outputId": "78118869-0d72-43b7-b767-48cf883ff219"
      },
      "execution_count": 26,
      "outputs": [
        {
          "output_type": "stream",
          "name": "stdout",
          "text": [
            "CTR (All Users): 2.12%\n",
            "CTR (Top 10% Users by Model): 15.32%\n",
            "Estimated CTR Uplift: 623.06%\n"
          ]
        }
      ]
    },
    {
      "cell_type": "code",
      "source": [
        "#user segment insights -\n",
        "\n",
        "# email-version-\n",
        "seg_version = email_df.groupby('email_version')['clicked'].mean()\n",
        "print(\"CTR by Email Version:\\n\", seg_version)\n"
      ],
      "metadata": {
        "colab": {
          "base_uri": "https://localhost:8080/"
        },
        "id": "ti33alt9Kvk8",
        "outputId": "11ff27ba-afa7-4ad2-cd5e-ff995ec821ff"
      },
      "execution_count": 28,
      "outputs": [
        {
          "output_type": "stream",
          "name": "stdout",
          "text": [
            "CTR by Email Version:\n",
            " email_version\n",
            "generic         0.015137\n",
            "personalized    0.027294\n",
            "Name: clicked, dtype: float64\n"
          ]
        }
      ]
    },
    {
      "cell_type": "code",
      "source": [
        "#text-length-\n",
        "seg_text = email_df.groupby('email_text')['clicked'].mean()\n",
        "print(\"CTR by Email Text Type:\\n\", seg_text)\n"
      ],
      "metadata": {
        "colab": {
          "base_uri": "https://localhost:8080/"
        },
        "id": "7ivq41ldK8Cs",
        "outputId": "416a7dd6-723f-4809-b60a-cfe2d432855e"
      },
      "execution_count": 29,
      "outputs": [
        {
          "output_type": "stream",
          "name": "stdout",
          "text": [
            "CTR by Email Text Type:\n",
            " email_text\n",
            "long_email     0.018538\n",
            "short_email    0.023872\n",
            "Name: clicked, dtype: float64\n"
          ]
        }
      ]
    },
    {
      "cell_type": "code",
      "source": [
        "#weekday -\n",
        "seg_day = email_df.groupby('weekday')['clicked'].mean().sort_values(ascending=False)\n",
        "print(\"CTR by Weekday:\\n\", seg_day)\n"
      ],
      "metadata": {
        "colab": {
          "base_uri": "https://localhost:8080/"
        },
        "id": "nQRINeI2LBNk",
        "outputId": "6eced3b0-4de5-449a-cb4e-eacd448c46f6"
      },
      "execution_count": 32,
      "outputs": [
        {
          "output_type": "stream",
          "name": "stdout",
          "text": [
            "CTR by Weekday:\n",
            " weekday\n",
            "Wednesday    0.027620\n",
            "Tuesday      0.024889\n",
            "Thursday     0.024445\n",
            "Monday       0.022906\n",
            "Saturday     0.017846\n",
            "Sunday       0.016751\n",
            "Friday       0.014037\n",
            "Name: clicked, dtype: float64\n"
          ]
        }
      ]
    },
    {
      "cell_type": "code",
      "source": [
        "#user country-\n",
        "top_countries = email_df['user_country'].value_counts().head(10).index\n",
        "seg_country = email_df[email_df['user_country'].isin(top_countries)].groupby('user_country')['clicked'].mean()\n",
        "print(\"CTR by Top Countries:\\n\", seg_country.sort_values(ascending=False))\n"
      ],
      "metadata": {
        "colab": {
          "base_uri": "https://localhost:8080/"
        },
        "id": "-tq0Hu_ZLFDs",
        "outputId": "73fdceec-5cc2-4956-b0ec-2f8e2bf50f7a"
      },
      "execution_count": 33,
      "outputs": [
        {
          "output_type": "stream",
          "name": "stdout",
          "text": [
            "CTR by Top Countries:\n",
            " user_country\n",
            "UK    0.024675\n",
            "US    0.024360\n",
            "ES    0.008327\n",
            "FR    0.008004\n",
            "Name: clicked, dtype: float64\n"
          ]
        }
      ]
    },
    {
      "cell_type": "markdown",
      "source": [
        "#INSIGHTS\n",
        "- Model Performance & CTR Improvement\n",
        "-Original campaign CTR: 2.12%\n",
        "-CTR using model to target top 10% of users: 15.32%\n",
        " Estimated improvement: 623% uplift by targeting the right users!\n",
        "\n",
        "-- Feature Importance\n",
        "- User’s past purchases\n",
        "- Email version (personalized vs generic)\n",
        "- Send hour and weekday\n",
        "- User country\n",
        "\n",
        "--Email Content Insights\n",
        "- Personalized emails (e.g. “Hi Sreyashi”) had 1.8x higher CTR than generic ones\n",
        "- Short emails outperformed long ones\n",
        "\n",
        "--Timing Insights\n",
        "Best performing weekdays: Wednesday, Tuesday, Thursday\n",
        "- Worst day: Friday (1.4%)\n",
        "- Emailing earlier in the week may yield better engagement\n",
        "\n",
        "--Geography Insights\n",
        "- UK and US users had higher engagement (~2.5% CTR)\n",
        "- France and Spain performed significantly worse (~0.8%)"
      ],
      "metadata": {
        "id": "Eqm6boblLk7b"
      }
    },
    {
      "cell_type": "markdown",
      "source": [
        "The trained model can be used to prioritize sending emails to the top predicted users, especially those in UK/US, during midweek, with short, personalized content — this could boost CTR by 6x or more."
      ],
      "metadata": {
        "id": "G0SODQJDMedX"
      }
    },
    {
      "cell_type": "markdown",
      "source": [
        "By how much do you think your model would improve click through rate\n",
        "(defined as # of users who click on the link/total users who receive the\n",
        "email). How would you test that?"
      ],
      "metadata": {
        "id": "yC-1OglzNzDV"
      }
    },
    {
      "cell_type": "markdown",
      "source": [
        "The original campaign (random email sending) had a CTR of 2.12%.\n",
        "Using the machine learning model to target the top 10% most likely users, the CTR increases to 15.32%.This represents an estimated CTR uplift of 623%."
      ],
      "metadata": {
        "id": "QBWee-d8OMuC"
      }
    },
    {
      "cell_type": "markdown",
      "source": [
        "1.Group A (Control): Send emails randomly to a group of users (like before).\n",
        "\n",
        "2.Group B (Test): Use your model to send emails only to the top X% most likely to click.\n",
        "\n",
        "Comparing the CTR of both groups over a defined period.\n"
      ],
      "metadata": {
        "id": "jnMS6BdYOYsZ"
      }
    },
    {
      "cell_type": "code",
      "source": [
        "#Real world testing - (A/b testing)\n",
        "\n",
        "email_df['click_proba'] = rf.predict_proba(X)[:, 1]\n",
        "#20% expt group\n",
        "ab_size = int(0.2 * len(email_df))\n",
        "#  Group A - Random sample (control group)\n",
        "group_a = email_df.sample(n=ab_size, random_state=42)\n",
        "#  Group B - Top predicted users (test group)\n",
        "threshold = np.percentile(email_df['click_proba'], 100 - (ab_size / len(email_df)) * 100)\n",
        "group_b = email_df[email_df['click_proba'] >= threshold].sort_values(by='click_proba', ascending=False).head(ab_size)\n",
        "\n",
        "ctr_a = group_a['clicked'].mean()\n",
        "ctr_b = group_b['clicked'].mean()\n",
        "uplift = (ctr_b - ctr_a) / ctr_a * 100\n",
        "\n",
        "print(f\" Control Group (Random) CTR: {ctr_a:.2%}\")\n",
        "print(f\" Test Group (Model-Based) CTR: {ctr_b:.2%}\")\n",
        "print(f\" Estimated Uplift: {uplift:.2f}%\")\n",
        "\n"
      ],
      "metadata": {
        "colab": {
          "base_uri": "https://localhost:8080/"
        },
        "id": "ZUKbou6GMkoz",
        "outputId": "3346fc4b-7868-4783-c6d2-51838d2eb523"
      },
      "execution_count": 34,
      "outputs": [
        {
          "output_type": "stream",
          "name": "stdout",
          "text": [
            " Control Group (Random) CTR: 2.27%\n",
            " Test Group (Model-Based) CTR: 8.91%\n",
            " Estimated Uplift: 293.60%\n"
          ]
        }
      ]
    },
    {
      "cell_type": "markdown",
      "source": [
        "Did you find any interesting pattern on how the email campaign\n",
        "performed for different segments of users? Explain."
      ],
      "metadata": {
        "id": "rhhbzYAAO5we"
      }
    },
    {
      "cell_type": "markdown",
      "source": [
        "Yes, here are the most important findings:\n",
        " 1. Personalization Helps\n",
        "Personalized emails (e.g., “Hi Sreyashu”) performed significantly better than generic ones:\n",
        "\n",
        "Personalized CTR: 2.73%\n",
        "\n",
        "Generic CTR: 1.51%\n",
        "\n",
        "That’s an 81% increase in effectiveness.\n",
        "\n",
        "2. Shorter Emails Perform Better\n",
        "Emails with short text (2 paragraphs) outperformed long ones:\n",
        "\n",
        "Short: 2.39% CTR\n",
        "\n",
        "Long: 1.85% CTR\n",
        "\n",
        " 3. Weekday Matters\n",
        "Best-performing days were Wednesday (2.76%), Tuesday, and Thursday.\n",
        "\n",
        "Worst performance on Friday (1.4%), suggesting midweek emails are best.\n",
        "\n",
        " 4. Timing (Hour of Day)\n",
        "You can explore this further, but typically late morning or early afternoon (e.g. 10am–2pm) perform better. Your hour field analysis can validate this.\n",
        "\n",
        " 5. User Country\n",
        "UK and US users had better engagement:\n",
        "\n",
        "UK CTR: 2.47%\n",
        "\n",
        "US CTR: 2.44%\n",
        "\n",
        "Spain and France had much lower CTR (below 1%), suggesting localization might help.\n",
        "\n",
        " 6. User Purchase History\n",
        "(From feature importance): Users with more past purchases are more likely to click.\n",
        "\n",
        "These are high-value users and should be prioritized in future campaigns.\n"
      ],
      "metadata": {
        "id": "0ElWoTU4O8Vl"
      }
    },
    {
      "cell_type": "markdown",
      "source": [
        "Using machine learning to prioritize email recipients can increase CTR from 2.12% to 15.32%, a 623% improvement. By focusing on personalized, short emails sent midweek to active users (especially in the UK/US), we can significantly boost campaign performance."
      ],
      "metadata": {
        "id": "nWvOs_qEPOpU"
      }
    }
  ]
}